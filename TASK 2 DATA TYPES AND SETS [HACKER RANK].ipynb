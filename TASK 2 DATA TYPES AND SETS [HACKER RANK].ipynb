{
 "cells": [
  {
   "cell_type": "markdown",
   "metadata": {},
   "source": [
    "# 1. List Comprehensions\n"
   ]
  },
  {
   "cell_type": "code",
   "execution_count": 1,
   "metadata": {},
   "outputs": [
    {
     "name": "stdout",
     "output_type": "stream",
     "text": [
      "1\n",
      "1\n",
      "3\n",
      "5\n",
      "[[0, 0, 0], [0, 0, 1], [0, 0, 2], [0, 0, 3], [0, 1, 0], [0, 1, 1], [0, 1, 2], [0, 1, 3], [1, 0, 0], [1, 0, 1], [1, 0, 2], [1, 0, 3], [1, 1, 0], [1, 1, 1], [1, 1, 2]]\n"
     ]
    }
   ],
   "source": [
    "x = int(input())\n",
    "y = int(input())\n",
    "z = int(input())\n",
    "n = int(input())\n",
    "print([[i,j,k] for i in range(x+1) for j in range(y+1) for k in range(z+1) if ((i+j+k) != n)])"
   ]
  },
  {
   "cell_type": "markdown",
   "metadata": {},
   "source": [
    "#  2. Find the Runner-Up Score!"
   ]
  },
  {
   "cell_type": "code",
   "execution_count": 3,
   "metadata": {},
   "outputs": [
    {
     "name": "stdout",
     "output_type": "stream",
     "text": [
      "6\n",
      "5 6 7 8 4 6\n",
      "7\n"
     ]
    }
   ],
   "source": [
    "n = int(input())\n",
    "arr = map(int, input().split())\n",
    "a = set(arr)\n",
    "print(sorted(list(a))[-2])\n"
   ]
  },
  {
   "cell_type": "markdown",
   "metadata": {},
   "source": [
    "#  3. Nested Lists"
   ]
  },
  {
   "cell_type": "code",
   "execution_count": 8,
   "metadata": {},
   "outputs": [
    {
     "name": "stdout",
     "output_type": "stream",
     "text": [
      "5\n",
      "HARRY \n",
      "37.2\n",
      "BERRY\n",
      "37.2\n",
      "TINA\n",
      "34.9\n",
      "AKRITI\n",
      "50\n",
      "HARSH 87\n",
      "87\n",
      "BERRY\n",
      "HARRY \n"
     ]
    }
   ],
   "source": [
    "sc = []\n",
    "if __name__ == '__main__':\n",
    "    for _ in range(0,int(input())):\n",
    "        name = input()\n",
    "        score = float(input())\n",
    "        sc.append([name, score])\n",
    "        \n",
    "second_highest = sorted(list(set([score for name, score in sc])))[1]\n",
    "print('\\n'.join([a for a,b in sorted(sc) if b == second_highest]))"
   ]
  },
  {
   "cell_type": "markdown",
   "metadata": {},
   "source": [
    "# 4. Finding the percentage"
   ]
  },
  {
   "cell_type": "code",
   "execution_count": 1,
   "metadata": {},
   "outputs": [
    {
     "name": "stdout",
     "output_type": "stream",
     "text": [
      "3\n",
      "KRISHNA 67 68 69\n",
      "ARJUN 70 98 63\n",
      "MALIKA 52 56 60\n",
      "MALIKA\n",
      "56.00\n"
     ]
    }
   ],
   "source": [
    "if __name__ == '__main__':\n",
    "    n = int(input())\n",
    "    student_marks = {}\n",
    "    for _ in range(n):\n",
    "        name, *line = input().split()\n",
    "        scores = list(map(float, line))\n",
    "        student_marks[name] = scores\n",
    "    query_name = input()\n",
    "\n",
    "query_scores = student_marks[query_name]\n",
    "total_scores = sum(query_scores)\n",
    "avg = (total_scores/3)\n",
    "print(\"%.2f\" % avg)\n"
   ]
  },
  {
   "cell_type": "markdown",
   "metadata": {},
   "source": [
    "# 5. LISTS"
   ]
  },
  {
   "cell_type": "code",
   "execution_count": 2,
   "metadata": {},
   "outputs": [
    {
     "name": "stdout",
     "output_type": "stream",
     "text": [
      "12\n",
      "insert 0 5 \n",
      "insert 1 10\n",
      "insert 0 6\n",
      "print\n",
      "[6, 5, 10]\n",
      "remove 6\n",
      "append 9\n",
      "append 1\n",
      "sort\n",
      "print\n",
      "[1, 5, 9, 10]\n",
      "pop\n",
      "reverse\n",
      "print\n",
      "[9, 5, 1]\n"
     ]
    }
   ],
   "source": [
    "N = int(input())\n",
    "L = []\n",
    "\n",
    "for i in range(N):\n",
    "    command = input().split()\n",
    "    #print command\n",
    "    if command[0] == 'insert':\n",
    "        L.insert(int(command[1]), int(command[2]))\n",
    "    elif command[0] == 'append':\n",
    "        L.append(int(command[1]))\n",
    "    elif command[0] == 'remove':\n",
    "        L.remove(int(command[1]))\n",
    "    elif command[0] == 'pop':\n",
    "        L.pop()\n",
    "    elif command[0] == 'sort':\n",
    "        L.sort()\n",
    "    elif command[0] == 'reverse':\n",
    "        L.reverse()\n",
    "    elif command[0] == 'index':\n",
    "        print (L.index(command[1]))\n",
    "    elif command[0] == 'count':\n",
    "        print (L.count(command[1]))\n",
    "    else:\n",
    "        print (L)\n"
   ]
  },
  {
   "cell_type": "markdown",
   "metadata": {},
   "source": [
    "\n",
    "# 6. Tuples "
   ]
  },
  {
   "cell_type": "code",
   "execution_count": 5,
   "metadata": {},
   "outputs": [
    {
     "name": "stdout",
     "output_type": "stream",
     "text": [
      "4\n",
      "3 4 5 6\n",
      "-7907310929160860640\n"
     ]
    }
   ],
   "source": [
    "n = int(input())\n",
    "integer_list = map(int, input().split())\n",
    "print(hash(tuple(integer_list)))"
   ]
  },
  {
   "cell_type": "markdown",
   "metadata": {},
   "source": [
    "# 7. Introduction to Sets"
   ]
  },
  {
   "cell_type": "code",
   "execution_count": 6,
   "metadata": {},
   "outputs": [
    {
     "name": "stdout",
     "output_type": "stream",
     "text": [
      "10\n",
      "161 182 161 154 176 170 167 171 170 174\n",
      "169.375\n"
     ]
    }
   ],
   "source": [
    " \n",
    "def average(array):\n",
    "    return sum(set(array))/len(set(array))\n",
    "\n",
    "if __name__ == '__main__':\n",
    "    n = int(input())\n",
    "    arr = list(map(int, input().split()))\n",
    "    result = average(arr)\n",
    "    print(result)"
   ]
  },
  {
   "cell_type": "markdown",
   "metadata": {},
   "source": [
    "# 8. No Idea!"
   ]
  },
  {
   "cell_type": "code",
   "execution_count": 7,
   "metadata": {},
   "outputs": [
    {
     "name": "stdout",
     "output_type": "stream",
     "text": [
      "3 2\n",
      "1 5 3\n",
      "3 1 \n",
      "5 7\n",
      "1\n"
     ]
    }
   ],
   "source": [
    "n, m = input().split()\n",
    "\n",
    "sc_ar = input().split()\n",
    "\n",
    "A = set(input().split())\n",
    "B = set(input().split())\n",
    "print(sum([(i in A) - (i in B) for i in sc_ar]))"
   ]
  },
  {
   "cell_type": "markdown",
   "metadata": {},
   "source": [
    "# 9. Symmetric Difference"
   ]
  },
  {
   "cell_type": "code",
   "execution_count": 8,
   "metadata": {},
   "outputs": [
    {
     "name": "stdout",
     "output_type": "stream",
     "text": [
      "4\n",
      "2 4 5 9 \n",
      "4 \n",
      "2 4 11 12\n",
      "5\n",
      "9\n",
      "11\n",
      "12\n"
     ]
    }
   ],
   "source": [
    "a,b=(int(input()),input().split())\n",
    "c,d=(int(input()),input().split())\n",
    "x=set(b)\n",
    "y=set(d)\n",
    "p=y.difference(x)\n",
    "q=x.difference(y)\n",
    "r=p.union(q)\n",
    "print ('\\n'.join(sorted(r, key=int)))\n"
   ]
  },
  {
   "cell_type": "markdown",
   "metadata": {},
   "source": [
    "# 10. Set .add()"
   ]
  },
  {
   "cell_type": "code",
   "execution_count": 9,
   "metadata": {},
   "outputs": [
    {
     "name": "stdout",
     "output_type": "stream",
     "text": [
      "7\n",
      "UK\n",
      "CHINA\n",
      "USA\n",
      "FRANCE\n",
      "NEW ZEALAND\n",
      "UK\n",
      "FRANCE\n",
      "5\n"
     ]
    }
   ],
   "source": [
    "n = int(input())\n",
    "s = set()\n",
    "for i in range(n):\n",
    "    s.add(input())\n",
    "print (len(s))"
   ]
  },
  {
   "cell_type": "markdown",
   "metadata": {},
   "source": [
    "# 11. Set .discard(), .remove() & .pop()"
   ]
  },
  {
   "cell_type": "code",
   "execution_count": 10,
   "metadata": {},
   "outputs": [
    {
     "name": "stdout",
     "output_type": "stream",
     "text": [
      "9\n",
      "1 2 3 4 5 6 7 8 9\n",
      "10\n",
      "POP\n",
      "remove 9\n",
      "discard 9\n",
      "discard 8\n",
      "remove 7\n",
      "pop\n",
      "discard 6\n",
      "remove 5\n",
      "pop\n",
      "discard 5\n",
      "7\n"
     ]
    }
   ],
   "source": [
    "n = input()\n",
    "s = set(map(int, input().split())) \n",
    "\n",
    "length = int(input())\n",
    "\n",
    "for i in range(0, length):\n",
    "    kwargs = input().strip().split(\" \")\n",
    "    if kwargs[0] == \"pop\":\n",
    "        s.pop()\n",
    "    elif kwargs[0] == \"remove\":\n",
    "        s.remove(int(kwargs[1]))\n",
    "    elif kwargs[0] == \"discard\":\n",
    "        s.discard(int(kwargs[1]))\n",
    "        \n",
    "print(sum(s))\n"
   ]
  },
  {
   "cell_type": "markdown",
   "metadata": {},
   "source": [
    "# 12. Set .union() Operation"
   ]
  },
  {
   "cell_type": "code",
   "execution_count": 11,
   "metadata": {},
   "outputs": [
    {
     "name": "stdout",
     "output_type": "stream",
     "text": [
      "9 \n",
      "1 2 3 4 5 6 7 8 9\n",
      "9\n",
      "10 1 2 3 11 21 55 6 8\n",
      "13\n"
     ]
    }
   ],
   "source": [
    "n=input()\n",
    "s1=set(map(int, input().split()))\n",
    "n=input()\n",
    "s2=set(map(int, input().split()))\n",
    "print (len(s1.union(s2)))\n"
   ]
  },
  {
   "cell_type": "markdown",
   "metadata": {},
   "source": [
    "#  13. Set .intersection() Operation"
   ]
  },
  {
   "cell_type": "code",
   "execution_count": 12,
   "metadata": {},
   "outputs": [
    {
     "name": "stdout",
     "output_type": "stream",
     "text": [
      "9\n",
      "1 2 3 4 5 6 7 8 9\n",
      "9\n",
      "10 1 2 3 11 21 55 6 8\n",
      "5\n"
     ]
    }
   ],
   "source": [
    "n=input()\n",
    "s1=set(map(int, input().split()))\n",
    "n=input()\n",
    "s2=set(map(int, input().split()))\n",
    "print (len(s1.intersection(s2)))\n"
   ]
  },
  {
   "cell_type": "markdown",
   "metadata": {},
   "source": [
    "\n",
    "# 14. Set .difference() Operation"
   ]
  },
  {
   "cell_type": "code",
   "execution_count": 13,
   "metadata": {},
   "outputs": [
    {
     "name": "stdout",
     "output_type": "stream",
     "text": [
      "9\n",
      "1 2 3 4 5 6 7 8 9\n",
      "9\n",
      "10 1 2 3 11 21 55 6 8\n",
      "4\n"
     ]
    }
   ],
   "source": [
    "n=input()\n",
    "s1=set(map(int, input().split()))\n",
    "n=input()\n",
    "s2=set(map(int, input().split()))\n",
    "print (len(s1-s2))\n"
   ]
  },
  {
   "cell_type": "markdown",
   "metadata": {},
   "source": [
    "# 15. Set .symmetric_difference() Operation"
   ]
  },
  {
   "cell_type": "code",
   "execution_count": 14,
   "metadata": {},
   "outputs": [
    {
     "name": "stdout",
     "output_type": "stream",
     "text": [
      "9\n",
      "1 2 3 4 5 6 7 8 9\n",
      "9\n",
      "10 1 2 3 11 21 55 6 8\n",
      "8\n"
     ]
    }
   ],
   "source": [
    "n=input()\n",
    "s1=set(map(int, input().split()))\n",
    "n=input()\n",
    "s2=set(map(int, input().split()))\n",
    "print (len(s1.symmetric_difference(s2)))\n"
   ]
  },
  {
   "cell_type": "markdown",
   "metadata": {},
   "source": [
    "# 16.Set Mutations"
   ]
  },
  {
   "cell_type": "code",
   "execution_count": 15,
   "metadata": {},
   "outputs": [
    {
     "name": "stdout",
     "output_type": "stream",
     "text": [
      "16\n",
      " 1 2 3 4 5 6 7 8 9 10 11 12 13 14 24 52\n",
      "4\n",
      " intersection_update 10\n",
      " 2 3 5 6 8 9 1 4 7 11\n",
      "update 2\n",
      "55 66\n",
      "symmetric_difference_update 5\n",
      " 22 7 35 62 58\n",
      "difference_update 7\n",
      " 11 22 35 55 58 62 66\n",
      "38\n"
     ]
    }
   ],
   "source": [
    "_ = int(input())\n",
    "s1 = set(map(int, input().split()))\n",
    "N = int(input())\n",
    "\n",
    "for _ in range(N):\n",
    "    cmd, _ = input().split()\n",
    "    s2 = set(map(int, input().split()))\n",
    "    if(cmd == \"intersection_update\"):\n",
    "        s1.intersection_update(s2)\n",
    "    elif(cmd == \"update\"):\n",
    "        s1.update(s2)\n",
    "    elif(cmd == \"symmetric_difference_update\"):\n",
    "        s1.symmetric_difference_update(s2)\n",
    "    elif(cmd == \"difference_update\"):\n",
    "        s1.difference_update(s2)\n",
    "\n",
    "print(sum(s1))\n"
   ]
  },
  {
   "cell_type": "markdown",
   "metadata": {},
   "source": [
    "# 17.The Captain's Room"
   ]
  },
  {
   "cell_type": "code",
   "execution_count": 2,
   "metadata": {},
   "outputs": [
    {
     "name": "stdout",
     "output_type": "stream",
     "text": [
      "5\n",
      "1 2 3 6 5 4 4 2 5 3 6 1 6 5 3 2 4 1 2 5 1 4 3 6 8 4 3 1 5 6 2 \n",
      "8\n"
     ]
    }
   ],
   "source": [
    "k = int(input())\n",
    "r = list(map(int, input().split()))\n",
    "myset = set(r)\n",
    "print(((sum(myset)*k)-(sum(r)))//(k-1))\n"
   ]
  },
  {
   "cell_type": "markdown",
   "metadata": {},
   "source": [
    "# 18. Check Subset "
   ]
  },
  {
   "cell_type": "code",
   "execution_count": 1,
   "metadata": {},
   "outputs": [
    {
     "name": "stdout",
     "output_type": "stream",
     "text": [
      "3\n",
      "5\n",
      "1 2 3 5 6\n",
      "9\n",
      "9 8 5 6 3 2 1 4 7\n",
      "True\n",
      "1\n",
      "2\n",
      "5\n",
      "3 6 5 4 1\n",
      "False\n",
      "7\n",
      "1 2 3 5 6 8 9\n",
      "3\n",
      "9 8 2\n",
      "False\n"
     ]
    }
   ],
   "source": [
    "for _ in range(int(input())):\n",
    "    x, a, z, b = input(), set(input().split()), input(), set(input().split())\n",
    "    print(a.issubset(b))\n"
   ]
  },
  {
   "cell_type": "markdown",
   "metadata": {},
   "source": [
    "# 19. Check Strict Superset"
   ]
  },
  {
   "cell_type": "code",
   "execution_count": 3,
   "metadata": {},
   "outputs": [
    {
     "name": "stdout",
     "output_type": "stream",
     "text": [
      "1 2 3 4 5 6 7 8 9 10 11 12 23 45 84 78\n",
      "2\n",
      "1 2 3 4 5\n",
      "100 11 12\n",
      "False\n",
      "True\n"
     ]
    }
   ],
   "source": [
    "a = set(map(int, input().split()))\n",
    "for x in range(int(input())):\n",
    "    b = set(map(int, input().split()))\n",
    "    if len(b.intersection(a))<len(b):\n",
    "        print(\"False\")\n",
    "        exit()\n",
    "print(\"True\")\n"
   ]
  }
 ],
 "metadata": {
  "kernelspec": {
   "display_name": "Python 3",
   "language": "python",
   "name": "python3"
  },
  "language_info": {
   "codemirror_mode": {
    "name": "ipython",
    "version": 3
   },
   "file_extension": ".py",
   "mimetype": "text/x-python",
   "name": "python",
   "nbconvert_exporter": "python",
   "pygments_lexer": "ipython3",
   "version": "3.8.5"
  }
 },
 "nbformat": 4,
 "nbformat_minor": 4
}
