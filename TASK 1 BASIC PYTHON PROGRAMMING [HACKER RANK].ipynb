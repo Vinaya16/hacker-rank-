{
 "cells": [
  {
   "cell_type": "markdown",
   "metadata": {},
   "source": [
    "# 1. Say \"Hello, World!\" With Python"
   ]
  },
  {
   "cell_type": "code",
   "execution_count": 1,
   "metadata": {},
   "outputs": [
    {
     "name": "stdout",
     "output_type": "stream",
     "text": [
      "Hello, World!\n"
     ]
    }
   ],
   "source": [
    "print(\"Hello, World!\") # printing directly"
   ]
  },
  {
   "cell_type": "code",
   "execution_count": 2,
   "metadata": {},
   "outputs": [
    {
     "name": "stdout",
     "output_type": "stream",
     "text": [
      "Hello, World!\n"
     ]
    }
   ],
   "source": [
    "string = \"Hello, World!\"  # printing using string varial\n",
    "print(string)"
   ]
  },
  {
   "cell_type": "markdown",
   "metadata": {},
   "source": [
    "# 2.  Python If-Else\n",
    "## Task\n",
    "Given an integer, perform the following conditional actions:\n",
    "\n",
    "i. If n is odd, print Weird\n",
    "\n",
    "ii. If n is even and in the inclusive range of 2 to 5, print Not Weird\n",
    "\n",
    "iii. If n is even and in the inclusive range of 6 to 20, print Weird\n",
    "\n",
    "iv. If n is even and greater than 20, print Not Weird\n",
    "\n"
   ]
  },
  {
   "cell_type": "code",
   "execution_count": 3,
   "metadata": {},
   "outputs": [
    {
     "name": "stdout",
     "output_type": "stream",
     "text": [
      "5\n",
      "Weird\n"
     ]
    }
   ],
   "source": [
    "n = int(input()) # input \n",
    "if n % 2 != 0: #if n is odd, print Weird\n",
    "    print(\"Weird\")\n",
    "else:\n",
    "    if n >= 2 and n <= 5: #If n is even and in the inclusive range of 2 to 5, print Not Weird\n",
    "        print (\"Not Weird\")\n",
    "    elif n >= 6 and n <= 20: #If n is even and in the inclusive range of 6 to 20, print Weird\n",
    "        print (\"Weird\")\n",
    "    elif n > 20:\n",
    "        print (\"Not Weird\") #If n is even and greater than 20, print Not Weird"
   ]
  },
  {
   "cell_type": "markdown",
   "metadata": {},
   "source": [
    "#  3. Arithmetic Operators\n",
    "## Task\n",
    "The provided code stub reads two integers from STDIN, and Add code to print three lines where:\n",
    "\n",
    "i. The first line contains the sum of the two numbers.\n",
    "\n",
    "ii. The second line contains the difference of the two numbers (first - second).\n",
    "\n",
    "iii. The third line contains the product of the two numbers.\n"
   ]
  },
  {
   "cell_type": "code",
   "execution_count": 4,
   "metadata": {},
   "outputs": [
    {
     "name": "stdout",
     "output_type": "stream",
     "text": [
      "2\n",
      "5\n",
      "7\n",
      "-3\n",
      "10\n"
     ]
    }
   ],
   "source": [
    "a = int(input()) # 1st number input\n",
    "b = int(input()) # 2nd number input\n",
    "print(a+b) #sum of the two numbers\n",
    "print(a-b) #difference of the two numbers (first - second).\n",
    "print(a*b) #product of the two numbers."
   ]
  },
  {
   "cell_type": "markdown",
   "metadata": {},
   "source": [
    "#  4 . Python: Division\n",
    "## Task\n",
    "The provided code stub reads two integers, a and b , from STDIN.\\\n",
    "Add logic to print two lines.\\\n",
    "The first line should contain the result of integer division,a//b .\\\n",
    "The second line should contain the result of float division, a/b.\n",
    "\n",
    "No rounding or formatting is necessary."
   ]
  },
  {
   "cell_type": "code",
   "execution_count": 6,
   "metadata": {},
   "outputs": [
    {
     "name": "stdout",
     "output_type": "stream",
     "text": [
      "3\n",
      "5\n",
      "0\n",
      "0.6\n"
     ]
    }
   ],
   "source": [
    "a = int(input()) # input 1\n",
    "b = int(input()) # input 2\n",
    "print(a//b) # integer division\n",
    "print(a/b) # float division"
   ]
  },
  {
   "cell_type": "markdown",
   "metadata": {},
   "source": [
    "# 5. Loops\n",
    "## Task\n",
    "The provided code stub reads and integer, n, from STDIN. For all non-negative integers i<n, print i^2 . "
   ]
  },
  {
   "cell_type": "code",
   "execution_count": 7,
   "metadata": {},
   "outputs": [
    {
     "name": "stdout",
     "output_type": "stream",
     "text": [
      "5\n",
      "0\n",
      "1\n",
      "4\n",
      "9\n",
      "16\n"
     ]
    }
   ],
   "source": [
    "n = int(input()) # input\n",
    "for i in range(n): \n",
    "    print(i*i) # printing the values i^2"
   ]
  },
  {
   "cell_type": "markdown",
   "metadata": {},
   "source": [
    "#  6. Write a function\n",
    "### An extra day is added to the calendar almost every four years as February 29, and the day is called a leap day. It corrects the calendar for the fact that our planet takes approximately 365.25 days to orbit the sun. A leap year contains a leap day.\n",
    "\n",
    "In the Gregorian calendar, three conditions are used to identify leap years:\n",
    "\n",
    "The year can be evenly divided by 4, is a leap year, unless:\n",
    "\n",
    "    The year can be evenly divided by 100, it is NOT a leap year, unless:\n",
    "        The year is also evenly divisible by 400. Then it is a leap year.\n",
    "\n",
    "This means that in the Gregorian calendar, the years 2000 and 2400 are leap years, while 1800, 1900, 2100, 2200, 2300 and 2500 are NOT leap years. \n",
    "\n",
    "### Task\n",
    "\n",
    "Given a year, determine whether it is a leap year. If it is a leap year, return the Boolean True, otherwise return False.\n",
    "\n",
    "Note that the code stub provided reads from STDIN and passes arguments to the is_leap function. It is only necessary to complete the is_leap function. "
   ]
  },
  {
   "cell_type": "code",
   "execution_count": 18,
   "metadata": {},
   "outputs": [
    {
     "name": "stdout",
     "output_type": "stream",
     "text": [
      "2012\n",
      "True\n"
     ]
    }
   ],
   "source": [
    "year = int(input()) # taking the value of year\n",
    "def is_leap(year): # defining the function for leap year\n",
    "    leap = True\n",
    "    if year % 4 == 0: # year divided by 4\n",
    "        if year % 100 == 0: # if year divided by 100\n",
    "            if year % 400 == 0: # if year divided by 400\n",
    "                return leap\n",
    "            else:\n",
    "                return False\n",
    "        else:\n",
    "             return True\n",
    "    else:\n",
    "        return False\n",
    "\n",
    "print(is_leap(year))"
   ]
  },
  {
   "cell_type": "markdown",
   "metadata": {},
   "source": [
    "#  7. Print Function\n",
    "\n",
    "Without using any string methods, try to print the following:\n",
    "\n",
    "123...n"
   ]
  },
  {
   "cell_type": "code",
   "execution_count": 21,
   "metadata": {},
   "outputs": [
    {
     "name": "stdout",
     "output_type": "stream",
     "text": [
      "12\n",
      "123456789101112"
     ]
    }
   ],
   "source": [
    "n = int(input()) #input \n",
    "for i in range(n):\n",
    "    print(i+1,end='') #to print in the same line"
   ]
  }
 ],
 "metadata": {
  "kernelspec": {
   "display_name": "Python 3",
   "language": "python",
   "name": "python3"
  },
  "language_info": {
   "codemirror_mode": {
    "name": "ipython",
    "version": 3
   },
   "file_extension": ".py",
   "mimetype": "text/x-python",
   "name": "python",
   "nbconvert_exporter": "python",
   "pygments_lexer": "ipython3",
   "version": "3.8.5"
  }
 },
 "nbformat": 4,
 "nbformat_minor": 4
}
